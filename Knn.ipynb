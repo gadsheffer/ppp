{
  "nbformat": 4,
  "nbformat_minor": 0,
  "metadata": {
    "colab": {
      "name": "Knn.ipynb",
      "provenance": [],
      "authorship_tag": "ABX9TyORc390TUGf9l0CE7LSpWCC",
      "include_colab_link": true
    },
    "kernelspec": {
      "name": "python3",
      "display_name": "Python 3"
    }
  },
  "cells": [
    {
      "cell_type": "markdown",
      "metadata": {
        "id": "view-in-github",
        "colab_type": "text"
      },
      "source": [
        "<a href=\"https://colab.research.google.com/github/pardodan/project_A/blob/main/Knn.ipynb\" target=\"_parent\"><img src=\"https://colab.research.google.com/assets/colab-badge.svg\" alt=\"Open In Colab\"/></a>"
      ]
    },
    {
      "cell_type": "markdown",
      "metadata": {
        "id": "19S1mnkrXq9N"
      },
      "source": [
        "Knn algorythem "
      ]
    },
    {
      "cell_type": "code",
      "metadata": {
        "id": "-ENndw_EX0sz"
      },
      "source": [
        "import numpy as np\r\n",
        "from collections import Counter\r\n",
        "\r\n",
        "\r\n",
        "def euclidean_distance(x1, x2):\r\n",
        "        return np.sqrt(np.sum((x1 - x2)**2))\r\n",
        "\r\n",
        "\r\n",
        "class KNN:\r\n",
        "\r\n",
        "    def __init__(self, k=3):\r\n",
        "        self.k = k\r\n",
        "\r\n",
        "    def fit(self, X, y):\r\n",
        "        self.X_train = X\r\n",
        "        self.y_train = y\r\n",
        "\r\n",
        "    def predict(self, X):\r\n",
        "        y_pred = [self._predict(x) for x in X]\r\n",
        "        return np.array(y_pred)\r\n",
        "\r\n",
        "    def _predict(self, x):\r\n",
        "        # Compute distances between x and all examples in the training set\r\n",
        "        distances = [euclidean_distance(x, x_train) for x_train in self.X_train]\r\n",
        "        # Sort by distance and return indices of the first k neighbors\r\n",
        "        k_idx = np.argsort(distances)[:self.k]\r\n",
        "        # Extract the labels of the k nearest neighbor training samples\r\n",
        "        k_neighbor_labels = [self.y_train[i] for i in k_idx]  \r\n",
        "        # return the most common class label\r\n",
        "        most_common = Counter(k_neighbor_labels).most_common(1)\r\n",
        "        return most_common[0][0]"
      ],
      "execution_count": 1,
      "outputs": []
    },
    {
      "cell_type": "markdown",
      "metadata": {
        "id": "rEdDJKGJYBx7"
      },
      "source": [
        "Test knn"
      ]
    },
    {
      "cell_type": "code",
      "metadata": {
        "id": "l47D6R5AYEwN"
      },
      "source": [
        "import numpy as np\r\n",
        "from sklearn import datasets\r\n",
        "from sklearn.model_selection import train_test_split\r\n",
        "import matplotlib.pyplot as plt\r\n",
        "from matplotlib.colors import ListedColormap\r\n",
        "cmap = ListedColormap(['#FF0000', '#00FF00', '#0000FF'])\r\n",
        "\r\n",
        "from knn import KNN\r\n",
        "\r\n",
        "def accuracy(y_true, y_pred):\r\n",
        "    accuracy = np.sum(y_true == y_pred) / len(y_true)\r\n",
        "    return accuracy\r\n",
        "\r\n",
        "\r\n",
        "iris = datasets.load_iris()\r\n",
        "X, y = iris.data, iris.target\r\n",
        "\r\n",
        "X_train, X_test, y_train, y_test = train_test_split(X, y, test_size=0.2, random_state=1234)\r\n",
        "\r\n",
        "## Inspect data\r\n",
        "print(X_train.shape)\r\n",
        "print(X_train[0])\r\n",
        "\r\n",
        "print(y_train.shape)\r\n",
        "print(y_train)\r\n",
        "\r\n",
        "plt.figure()\r\n",
        "plt.scatter(X[:, 0], X[:, 1], c=y, cmap=cmap, edgecolor='k', s=20)\r\n",
        "plt.show()\r\n",
        "\r\n",
        "\r\n",
        "##------We need to change to a loop-----##\r\n",
        "##------find the best \"k\"--------## \r\n",
        "k = 3\r\n",
        "clf = KNN(k=k)\r\n",
        "clf.fit(X_train, y_train)\r\n",
        "predictions = clf.predict(X_test)\r\n",
        "print(\"custom KNN classification accuracy\", accuracy(y_test, predictions))"
      ],
      "execution_count": null,
      "outputs": []
    }
  ]
}
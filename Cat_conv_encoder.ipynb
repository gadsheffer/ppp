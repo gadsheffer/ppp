{
  "nbformat": 4,
  "nbformat_minor": 0,
  "metadata": {
    "colab": {
      "name": "Cat_conv_encoder.ipynb",
      "provenance": [],
      "authorship_tag": "ABX9TyNkKZbWRYz604V67EeqTJzb",
      "include_colab_link": true
    },
    "kernelspec": {
      "name": "python3",
      "display_name": "Python 3"
    }
  },
  "cells": [
    {
      "cell_type": "markdown",
      "metadata": {
        "id": "view-in-github",
        "colab_type": "text"
      },
      "source": [
        "<a href=\"https://colab.research.google.com/github/pardodan/project_A/blob/main/Cat_conv_encoder.ipynb\" target=\"_parent\"><img src=\"https://colab.research.google.com/assets/colab-badge.svg\" alt=\"Open In Colab\"/></a>"
      ]
    },
    {
      "cell_type": "code",
      "metadata": {
        "id": "61KVEAxya390"
      },
      "source": [
        "import numpy as np\r\n",
        "import pandas as pd\r\n",
        "import os\r\n",
        "import matplotlib.pyplot as plt\r\n",
        "from keras.datasets import cifar10\r\n",
        "from keras.layers import Input, Dense, Conv2D, MaxPooling2D, UpSampling2D , Conv2DTranspose\r\n",
        "from keras.models import Model\r\n",
        "from keras.preprocessing import image"
      ],
      "execution_count": 2,
      "outputs": []
    },
    {
      "cell_type": "markdown",
      "metadata": {
        "id": "p8PJ92N6c5g8"
      },
      "source": [
        ""
      ]
    },
    {
      "cell_type": "code",
      "metadata": {
        "colab": {
          "base_uri": "https://localhost:8080/",
          "height": 229
        },
        "id": "JFPJfw6yc57b",
        "outputId": "bfa5ab56-24f0-4c0e-adfc-95c5144a2221"
      },
      "source": [
        "cat_train_path = \"../input/cat-and-dog/training_set/training_set/cats/\"\r\n",
        "cat_test_path = \"../input/cat-and-dog/test_set/test_set/cats/\"\r\n",
        "\r\n",
        "cat_train = []\r\n",
        "for filename in os.listdir(cat_train_path):\r\n",
        "    if filename.endswith(\".jpg\"):\r\n",
        "      img = image.load_img(cat_train_path+filename, target_size=(128,128))\r\n",
        "      cat_train.append(image.img_to_array(img))\r\n",
        "cat_train = np.array(cat_train)  \r\n",
        "\r\n",
        "cat_test = []\r\n",
        "for filename in os.listdir(cat_test_path):\r\n",
        "    if filename.endswith(\".jpg\"):\r\n",
        "      img = image.load_img(cat_test_path+filename, target_size=(128,128))\r\n",
        "      cat_test.append(image.img_to_array(img))\r\n",
        "cat_test = np.array(cat_test)\r\n",
        "\r\n",
        "print(\"cat_train\",cat_train.shape)\r\n",
        "print(\"cat_test\",cat_test.shape)"
      ],
      "execution_count": 4,
      "outputs": [
        {
          "output_type": "error",
          "ename": "FileNotFoundError",
          "evalue": "ignored",
          "traceback": [
            "\u001b[0;31m---------------------------------------------------------------------------\u001b[0m",
            "\u001b[0;31mFileNotFoundError\u001b[0m                         Traceback (most recent call last)",
            "\u001b[0;32m<ipython-input-4-0908de7cb5f9>\u001b[0m in \u001b[0;36m<module>\u001b[0;34m()\u001b[0m\n\u001b[1;32m      3\u001b[0m \u001b[0;34m\u001b[0m\u001b[0m\n\u001b[1;32m      4\u001b[0m \u001b[0mcat_train\u001b[0m \u001b[0;34m=\u001b[0m \u001b[0;34m[\u001b[0m\u001b[0;34m]\u001b[0m\u001b[0;34m\u001b[0m\u001b[0;34m\u001b[0m\u001b[0m\n\u001b[0;32m----> 5\u001b[0;31m \u001b[0;32mfor\u001b[0m \u001b[0mfilename\u001b[0m \u001b[0;32min\u001b[0m \u001b[0mos\u001b[0m\u001b[0;34m.\u001b[0m\u001b[0mlistdir\u001b[0m\u001b[0;34m(\u001b[0m\u001b[0mcat_train_path\u001b[0m\u001b[0;34m)\u001b[0m\u001b[0;34m:\u001b[0m\u001b[0;34m\u001b[0m\u001b[0;34m\u001b[0m\u001b[0m\n\u001b[0m\u001b[1;32m      6\u001b[0m     \u001b[0;32mif\u001b[0m \u001b[0mfilename\u001b[0m\u001b[0;34m.\u001b[0m\u001b[0mendswith\u001b[0m\u001b[0;34m(\u001b[0m\u001b[0;34m\".jpg\"\u001b[0m\u001b[0;34m)\u001b[0m\u001b[0;34m:\u001b[0m\u001b[0;34m\u001b[0m\u001b[0;34m\u001b[0m\u001b[0m\n\u001b[1;32m      7\u001b[0m       \u001b[0mimg\u001b[0m \u001b[0;34m=\u001b[0m \u001b[0mimage\u001b[0m\u001b[0;34m.\u001b[0m\u001b[0mload_img\u001b[0m\u001b[0;34m(\u001b[0m\u001b[0mcat_train_path\u001b[0m\u001b[0;34m+\u001b[0m\u001b[0mfilename\u001b[0m\u001b[0;34m,\u001b[0m \u001b[0mtarget_size\u001b[0m\u001b[0;34m=\u001b[0m\u001b[0;34m(\u001b[0m\u001b[0;36m128\u001b[0m\u001b[0;34m,\u001b[0m\u001b[0;36m128\u001b[0m\u001b[0;34m)\u001b[0m\u001b[0;34m)\u001b[0m\u001b[0;34m\u001b[0m\u001b[0;34m\u001b[0m\u001b[0m\n",
            "\u001b[0;31mFileNotFoundError\u001b[0m: [Errno 2] No such file or directory: '../input/cat-and-dog/training_set/training_set/cats/'"
          ]
        }
      ]
    },
    {
      "cell_type": "markdown",
      "metadata": {
        "id": "IgdAE7_6f0VG"
      },
      "source": [
        ""
      ]
    },
    {
      "cell_type": "code",
      "metadata": {
        "id": "wg4ng37rf0s-"
      },
      "source": [
        "def show_cat_data(X, n=10, title=\"\"):\r\n",
        "    plt.figure(figsize=(15, 5))\r\n",
        "    for i in range(n):\r\n",
        "        ax = plt.subplot(2,n,i+1)\r\n",
        "        plt.imshow(image.array_to_img(X[i]))\r\n",
        "        ax.get_xaxis().set_visible(False)\r\n",
        "        ax.get_yaxis().set_visible(False)\r\n",
        "    plt.suptitle(title, fontsize = 20)"
      ],
      "execution_count": null,
      "outputs": []
    },
    {
      "cell_type": "code",
      "metadata": {
        "id": "acmLm2F9f9pV"
      },
      "source": [
        "show_cat_data(cat_train, title=\"train cats\")\r\n",
        "show_cat_data(cat_test, title=\"test cats\")\r\n"
      ],
      "execution_count": null,
      "outputs": []
    }
  ]
}